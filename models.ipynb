{
 "cells": [
  {
   "cell_type": "code",
   "execution_count": 1,
   "metadata": {},
   "outputs": [],
   "source": [
    "from sklearn.model_selection import train_test_split\n",
    "from sklearn.linear_model import LinearRegression\n",
    "from sklearn.neighbors import KNeighborsRegressor\n",
    "from sklearn.preprocessing import OneHotEncoder\n",
    "from sklearn.tree import DecisionTreeRegressor\n",
    "from sklearn.linear_model import Ridge\n",
    "from sklearn import preprocessing\n",
    "import sklearn.metrics as metrics\n",
    "from sklearn import linear_model\n",
    "from torch import nn\n",
    "import torch\n",
    "\n"
   ]
  },
  {
   "cell_type": "code",
   "execution_count": 2,
   "metadata": {},
   "outputs": [],
   "source": [
    "import matplotlib.pyplot as plt\n",
    "import pandas as pd\n",
    "import numpy as np\n",
    "import math"
   ]
  },
  {
   "cell_type": "code",
   "execution_count": 3,
   "metadata": {},
   "outputs": [],
   "source": [
    "def preprocess(df):\n",
    "    # df = df.dropna()\n",
    "    # df = df[df[\"Crop\"]==\"Avocados\"]\n",
    "    # df = df.drop(columns=\"Crop\", axis=1)\n",
    "    # df = df.drop(columns=\"Year\", axis=1)\n",
    "    df['Export Quantity'] = df['Export Quantity'].interpolate(method='linear', limit_direction='backward', axis=0)\n",
    "    scaler = preprocessing.StandardScaler()\n",
    "    scal_feat = ['Temperature (Avg)','Precipitation','Export Quantity','Fertilizer Usage']\n",
    "    df[scal_feat]=scaler.fit_transform(df[scal_feat].to_numpy())\n",
    "    feat = scal_feat + [\"Crop\"]\n",
    "    X = df[feat].copy(deep=True)\n",
    "    X = pd.get_dummies(X, columns = ['Crop'])\n",
    "    y = df['Yield'].copy(deep=True)\n",
    "    \n",
    "    X_train, X_test, y_train, y_test = train_test_split(X, y, test_size = 0.20, random_state = 13)\n",
    "\n",
    "    return X_train, X_test, y_train, y_test, X\n",
    "    "
   ]
  },
  {
   "cell_type": "code",
   "execution_count": 5,
   "metadata": {},
   "outputs": [],
   "source": [
    "def compute_scores(y_test, y_pred):\n",
    "    mae = metrics.mean_absolute_error(y_test, y_pred)\n",
    "    mse = metrics.mean_squared_error(y_test, y_pred)\n",
    "    rmse = math.sqrt(mse) \n",
    "    r2 = metrics.r2_score(y_test, y_pred)\n",
    "    print(\"MAE : \",mae)\n",
    "    print(\"MSE : \",mse)\n",
    "    print(\"RMSE : \",rmse)\n",
    "    print(\"R2 : \",r2)"
   ]
  },
  {
   "cell_type": "code",
   "execution_count": 4,
   "metadata": {},
   "outputs": [],
   "source": [
    "df = pd.read_csv(\"Data/crop_yield_data.csv\")"
   ]
  },
  {
   "cell_type": "code",
   "execution_count": 6,
   "metadata": {},
   "outputs": [],
   "source": [
    "X_train, X_test, y_train, y_test, X = preprocess(df)"
   ]
  },
  {
   "cell_type": "markdown",
   "metadata": {},
   "source": [
    "#### Linear Regression"
   ]
  },
  {
   "cell_type": "code",
   "execution_count": 15,
   "metadata": {},
   "outputs": [
    {
     "name": "stdout",
     "output_type": "stream",
     "text": [
      "MAE :  14735.196362244102\n",
      "MSE :  413785184.80689985\n",
      "RMSE :  20341.710469055935\n",
      "R2 :  0.8316633489066173\n"
     ]
    }
   ],
   "source": [
    "model_lin = LinearRegression()\n",
    "model_lin.fit(X_train, y_train)\n",
    "y_pred_linear= model_lin.predict(X_test)\n",
    "compute_scores(y_test, y_pred_linear)"
   ]
  },
  {
   "cell_type": "markdown",
   "metadata": {},
   "source": [
    "#### Decision Tree"
   ]
  },
  {
   "cell_type": "code",
   "execution_count": 16,
   "metadata": {},
   "outputs": [
    {
     "name": "stdout",
     "output_type": "stream",
     "text": [
      "MAE :  10626.416666666666\n",
      "MSE :  248188971.79166666\n",
      "RMSE :  15754.014465896198\n",
      "R2 :  0.8990314252811727\n"
     ]
    }
   ],
   "source": [
    "dt_regression = DecisionTreeRegressor()\n",
    "dt_regression.fit(X_train, y_train)\n",
    "y_pred_dt = dt_regression.predict(X_test)\n",
    "compute_scores(y_test, y_pred_dt)"
   ]
  },
  {
   "cell_type": "markdown",
   "metadata": {},
   "source": [
    "#### KNN"
   ]
  },
  {
   "cell_type": "code",
   "execution_count": 23,
   "metadata": {},
   "outputs": [
    {
     "name": "stdout",
     "output_type": "stream",
     "text": [
      "MAE :  12449.214583333334\n",
      "MSE :  429741854.4960417\n",
      "RMSE :  20730.215978036547\n",
      "R2 :  0.8251718348633416\n"
     ]
    }
   ],
   "source": [
    "kNN = KNeighborsRegressor(n_neighbors=10) #tweak number of neighbours\n",
    "kNN.fit(X_train, y_train)\n",
    "y_pred_knn = kNN.predict(X_test)\n",
    "compute_scores(y_test, y_pred_knn)"
   ]
  },
  {
   "cell_type": "markdown",
   "metadata": {},
   "source": [
    "#### Shrinkage - Ridge"
   ]
  },
  {
   "cell_type": "code",
   "execution_count": 19,
   "metadata": {},
   "outputs": [
    {
     "name": "stdout",
     "output_type": "stream",
     "text": [
      "MAE :  14790.581353713394\n",
      "MSE :  420434163.38418055\n",
      "RMSE :  20504.491297864002\n",
      "R2 :  0.8289584024078358\n"
     ]
    }
   ],
   "source": [
    "ridge_regression = Ridge(alpha=1.0, solver = 'auto', random_state = 13) #if we use alpha = 0, it becomes simple LR problem, solver = ‘auto’, ‘svd’, ‘cholesky’, ‘lsqr’, ‘sparse_cg’, ‘sag’, ‘saga’, ‘lbfgs’\n",
    "ridge_regression.fit(X_train, y_train)\n",
    "y_pred_ridge = ridge_regression.predict(X_test)\n",
    "compute_scores(y_test, y_pred_ridge)"
   ]
  },
  {
   "cell_type": "markdown",
   "metadata": {},
   "source": [
    "#### Shrinkage - Lasso"
   ]
  },
  {
   "cell_type": "code",
   "execution_count": 20,
   "metadata": {},
   "outputs": [
    {
     "name": "stdout",
     "output_type": "stream",
     "text": [
      "MAE :  14735.211625845215\n",
      "MSE :  413786300.6856904\n",
      "RMSE :  20341.737897379622\n",
      "R2 :  0.8316628949432916\n"
     ]
    }
   ],
   "source": [
    "lasso_regression = linear_model.Lasso(alpha=0.1, random_state = 13)\n",
    "lasso_regression.fit(X_train, y_train)\n",
    "y_pred_lasso = lasso_regression.predict(X_test)\n",
    "compute_scores(y_test, y_pred_lasso)"
   ]
  },
  {
   "cell_type": "code",
   "execution_count": 7,
   "metadata": {},
   "outputs": [
    {
     "data": {
      "text/plain": [
       "CropPredictor(\n",
       "  (linear_layer_stack): Sequential(\n",
       "    (0): Linear(in_features=8, out_features=200, bias=True)\n",
       "    (1): ReLU()\n",
       "    (2): Dropout(p=0.5, inplace=False)\n",
       "    (3): Linear(in_features=200, out_features=200, bias=True)\n",
       "    (4): ReLU()\n",
       "    (5): Dropout(p=0.5, inplace=False)\n",
       "    (6): Linear(in_features=200, out_features=1, bias=True)\n",
       "  )\n",
       ")"
      ]
     },
     "execution_count": 7,
     "metadata": {},
     "output_type": "execute_result"
    }
   ],
   "source": [
    "class CropPredictor(nn.Module):\n",
    "    def __init__(self, input_features, hidden_units) -> None:\n",
    "        super().__init__()\n",
    "        self.linear_layer_stack = nn.Sequential(\n",
    "            nn.Linear(in_features=input_features, out_features=200),\n",
    "            nn.ReLU(),\n",
    "            nn.Dropout(),\n",
    "            nn.Linear(in_features=200, out_features=200),\n",
    "            nn.ReLU(),\n",
    "            nn.Dropout(),\n",
    "            nn.Linear(in_features=200, out_features=1)\n",
    "        )\n",
    "    def forward(self, x):\n",
    "        return self.linear_layer_stack(x)\n",
    "\n",
    "torch.manual_seed(13)\n",
    "model_0 = CropPredictor(8,50)\n",
    "model_0"
   ]
  },
  {
   "cell_type": "code",
   "execution_count": 8,
   "metadata": {},
   "outputs": [],
   "source": [
    "X_train = torch.tensor(X_train[:].values).float()\n",
    "X_test = torch.tensor(X_test[:].values).float()\n",
    "y_train = torch.tensor(y_train[:].values).float()\n",
    "y_test = torch.tensor(y_test[:].values).float()\n",
    "y_train = y_train.reshape(len(y_train), 1)\n",
    "y_test = y_test.reshape(len(y_test), 1)"
   ]
  },
  {
   "cell_type": "code",
   "execution_count": 9,
   "metadata": {},
   "outputs": [],
   "source": [
    "loss_fn = nn.MSELoss()\n",
    "optimizer = torch.optim.Adam(model_0.parameters(), lr=0.1)"
   ]
  },
  {
   "cell_type": "code",
   "execution_count": 10,
   "metadata": {},
   "outputs": [
    {
     "name": "stdout",
     "output_type": "stream",
     "text": [
      "Epoch: 0 | Train loss: 7240638464.0 | Test loss: 7838788096.0\n",
      "Epoch: 100 | Train loss: 555583168.0 | Test loss: 400215008.0\n",
      "Epoch: 200 | Train loss: 627298240.0 | Test loss: 339342496.0\n",
      "Epoch: 300 | Train loss: 504939680.0 | Test loss: 362146688.0\n",
      "Epoch: 400 | Train loss: 514248800.0 | Test loss: 402304384.0\n",
      "Epoch: 500 | Train loss: 591624192.0 | Test loss: 370853088.0\n",
      "Epoch: 600 | Train loss: 670691008.0 | Test loss: 339937664.0\n",
      "Epoch: 700 | Train loss: 578790592.0 | Test loss: 379446240.0\n",
      "Epoch: 800 | Train loss: 625507776.0 | Test loss: 359042080.0\n",
      "Epoch: 900 | Train loss: 628103744.0 | Test loss: 359672576.0\n"
     ]
    }
   ],
   "source": [
    "torch.manual_seed(13)\n",
    "\n",
    "# Set the number of epochs \n",
    "epochs = 1000\n",
    "\n",
    "train_loss_values = []\n",
    "test_loss_values = []\n",
    "epoch_count = []\n",
    "\n",
    "for epoch in range(epochs):\n",
    "    ### Training\n",
    "    model_0.train() # train mode is on by default after construction\n",
    "\n",
    "    # 1. Forward pass\n",
    "    y_pred = model_0(X_train)\n",
    "\n",
    "    # 2. Calculate loss\n",
    "    loss = loss_fn(y_pred, y_train)\n",
    "\n",
    "    # 3. Zero grad optimizer\n",
    "    optimizer.zero_grad()\n",
    "\n",
    "    # 4. Loss backward\n",
    "    loss.backward()\n",
    "\n",
    "    # 5. Step the optimizer\n",
    "    optimizer.step()\n",
    "\n",
    "    ### Testing\n",
    "    model_0.eval() # put the model in evaluation mode for testing (inference)\n",
    "    # 1. Forward pass\n",
    "    with torch.inference_mode():\n",
    "        test_pred = model_0(X_test)\n",
    "    \n",
    "        # 2. Calculate the loss\n",
    "        test_loss = loss_fn(test_pred, y_test)\n",
    "\n",
    "    if epoch % 100 == 0:\n",
    "        epoch_count.append(epoch)\n",
    "        train_loss_values.append(loss.detach().numpy())\n",
    "        test_loss_values.append(test_loss.detach().numpy())\n",
    "        print(f\"Epoch: {epoch} | Train loss: {loss} | Test loss: {test_loss}\")"
   ]
  },
  {
   "cell_type": "code",
   "execution_count": 11,
   "metadata": {},
   "outputs": [
    {
     "name": "stdout",
     "output_type": "stream",
     "text": [
      "MAE :  11406.935\n",
      "MSE :  365213980.0\n",
      "RMSE :  19110.5725712235\n",
      "R2 :  0.8514231497000964\n"
     ]
    }
   ],
   "source": [
    "compute_scores(y_test.reshape(1, len(y_test)).squeeze(), test_pred.reshape(1, len(test_pred)).squeeze())"
   ]
  },
  {
   "cell_type": "code",
   "execution_count": 12,
   "metadata": {},
   "outputs": [
    {
     "data": {
      "image/png": "[encoded data removed]",
      "text/plain": [
       "<Figure size 640x480 with 1 Axes>"
      ]
     },
     "metadata": {},
     "output_type": "display_data"
    }
   ],
   "source": [
    "# Plot the loss curves\n",
    "plt.plot(epoch_count, train_loss_values, label=\"Train loss\")\n",
    "plt.plot(epoch_count, test_loss_values, label=\"Test loss\")\n",
    "plt.title(\"Training and test loss curves\")\n",
    "plt.ylabel(\"Loss\")\n",
    "plt.xlabel(\"Epochs\")\n",
    "plt.legend();"
   ]
  }
 ],
 "metadata": {
  "kernelspec": {
   "display_name": "Python 3.10.6 ('dataScience': venv)",
   "language": "python",
   "name": "python3"
  },
  "language_info": {
   "codemirror_mode": {
    "name": "ipython",
    "version": 3
   },
   "file_extension": ".py",
   "mimetype": "text/x-python",
   "name": "python",
   "nbconvert_exporter": "python",
   "pygments_lexer": "ipython3",
   "version": "3.10.6"
  },
  "orig_nbformat": 4,
  "vscode": {
   "interpreter": {
    "hash": "678308bdef9bf48e3066c9f68a4f1176e9e29eec7dc2447a7347cd1dd6394b31"
   }
  }
 },
 "nbformat": 4,
 "nbformat_minor": 2
}
