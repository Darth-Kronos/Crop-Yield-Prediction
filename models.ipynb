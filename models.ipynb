{
 "cells": [
  {
   "cell_type": "code",
   "execution_count": 24,
   "metadata": {},
   "outputs": [],
   "source": [
    "from sklearn.model_selection import train_test_split\n",
    "from sklearn.linear_model import LinearRegression\n",
    "from sklearn.neighbors import KNeighborsRegressor\n",
    "from sklearn.preprocessing import OneHotEncoder\n",
    "from sklearn.tree import DecisionTreeRegressor\n",
    "from sklearn.linear_model import Ridge\n",
    "from sklearn import preprocessing\n",
    "import sklearn.metrics as metrics\n",
    "from sklearn import linear_model\n",
    "from torch import nn\n",
    "import torch\n",
    "\n"
   ]
  },
  {
   "cell_type": "code",
   "execution_count": 3,
   "metadata": {},
   "outputs": [],
   "source": [
    "import matplotlib.pyplot as plt\n",
    "import pandas as pd\n",
    "import numpy as np\n",
    "import math"
   ]
  },
  {
   "cell_type": "code",
   "execution_count": 40,
   "metadata": {},
   "outputs": [],
   "source": [
    "df = pd.read_csv(\"Data/crop_yield_data.csv\")"
   ]
  },
  {
   "cell_type": "code",
   "execution_count": 41,
   "metadata": {},
   "outputs": [],
   "source": [
    "def preprocess(df):\n",
    "    # df = df.dropna()\n",
    "    # df = df[df[\"Crop\"]==\"Avocados\"]\n",
    "    # df = df.drop(columns=\"Crop\", axis=1)\n",
    "    # df = df.drop(columns=\"Year\", axis=1)\n",
    "    df['Export Quantity'] = df['Export Quantity'].interpolate(method='linear', limit_direction='backward', axis=0)\n",
    "    scaler = preprocessing.StandardScaler()\n",
    "    scal_feat = ['Temperature (Avg)','Precipitation','Export Quantity','Fertilizer Usage']\n",
    "    df[scal_feat]=scaler.fit_transform(df[scal_feat].to_numpy())\n",
    "    feat = scal_feat + [\"Crop\"]\n",
    "    X = df[feat].copy(deep=True)\n",
    "    X = pd.get_dummies(X, columns = ['Crop'])\n",
    "    y = df['Yield'].copy(deep=True)\n",
    "    \n",
    "    X_train, X_test, y_train, y_test = train_test_split(X, y, test_size = 0.20, random_state = 13)\n",
    "\n",
    "    return X_train, X_test, y_train, y_test, X\n",
    "    "
   ]
  },
  {
   "cell_type": "code",
   "execution_count": 14,
   "metadata": {},
   "outputs": [],
   "source": [
    "def compute_scores(y_test, y_pred):\n",
    "    mae = metrics.mean_absolute_error(y_test, y_pred)\n",
    "    mse = metrics.mean_squared_error(y_test, y_pred)\n",
    "    rmse = math.sqrt(mse) \n",
    "    r2 = metrics.r2_score(y_test, y_pred)\n",
    "    print(\"MAE : \",mae)\n",
    "    print(\"MSE : \",mse)\n",
    "    print(\"RMSE : \",rmse)\n",
    "    print(\"R2 : \",r2)"
   ]
  },
  {
   "cell_type": "code",
   "execution_count": 57,
   "metadata": {},
   "outputs": [],
   "source": [
    "X_train, X_test, y_train, y_test, X = preprocess(df)"
   ]
  },
  {
   "cell_type": "code",
   "execution_count": null,
   "metadata": {},
   "outputs": [],
   "source": [
    "correlation_matrix = pd.DataFrame(X).corr()\n",
    "plt.matshow(correlation_matrix)\n",
    "plt.show()"
   ]
  },
  {
   "cell_type": "markdown",
   "metadata": {},
   "source": [
    "#### Linear Regression"
   ]
  },
  {
   "cell_type": "code",
   "execution_count": 15,
   "metadata": {},
   "outputs": [
    {
     "name": "stdout",
     "output_type": "stream",
     "text": [
      "MAE :  14735.196362244102\n",
      "MSE :  413785184.80689985\n",
      "RMSE :  20341.710469055935\n",
      "R2 :  0.8316633489066173\n"
     ]
    }
   ],
   "source": [
    "model_lin = LinearRegression()\n",
    "model_lin.fit(X_train, y_train)\n",
    "y_pred_linear= model_lin.predict(X_test)\n",
    "compute_scores(y_test, y_pred_linear)"
   ]
  },
  {
   "cell_type": "markdown",
   "metadata": {},
   "source": [
    "#### Decision Tree"
   ]
  },
  {
   "cell_type": "code",
   "execution_count": 16,
   "metadata": {},
   "outputs": [
    {
     "name": "stdout",
     "output_type": "stream",
     "text": [
      "MAE :  10626.416666666666\n",
      "MSE :  248188971.79166666\n",
      "RMSE :  15754.014465896198\n",
      "R2 :  0.8990314252811727\n"
     ]
    }
   ],
   "source": [
    "dt_regression = DecisionTreeRegressor()\n",
    "dt_regression.fit(X_train, y_train)\n",
    "y_pred_dt = dt_regression.predict(X_test)\n",
    "compute_scores(y_test, y_pred_dt)"
   ]
  },
  {
   "cell_type": "markdown",
   "metadata": {},
   "source": [
    "#### KNN"
   ]
  },
  {
   "cell_type": "code",
   "execution_count": 23,
   "metadata": {},
   "outputs": [
    {
     "name": "stdout",
     "output_type": "stream",
     "text": [
      "MAE :  12449.214583333334\n",
      "MSE :  429741854.4960417\n",
      "RMSE :  20730.215978036547\n",
      "R2 :  0.8251718348633416\n"
     ]
    }
   ],
   "source": [
    "kNN = KNeighborsRegressor(n_neighbors=10) #tweak number of neighbours\n",
    "kNN.fit(X_train, y_train)\n",
    "y_pred_knn = kNN.predict(X_test)\n",
    "compute_scores(y_test, y_pred_knn)"
   ]
  },
  {
   "cell_type": "markdown",
   "metadata": {},
   "source": [
    "#### Shrinkage - Ridge"
   ]
  },
  {
   "cell_type": "code",
   "execution_count": 19,
   "metadata": {},
   "outputs": [
    {
     "name": "stdout",
     "output_type": "stream",
     "text": [
      "MAE :  14790.581353713394\n",
      "MSE :  420434163.38418055\n",
      "RMSE :  20504.491297864002\n",
      "R2 :  0.8289584024078358\n"
     ]
    }
   ],
   "source": [
    "ridge_regression = Ridge(alpha=1.0, solver = 'auto', random_state = 13) #if we use alpha = 0, it becomes simple LR problem, solver = ‘auto’, ‘svd’, ‘cholesky’, ‘lsqr’, ‘sparse_cg’, ‘sag’, ‘saga’, ‘lbfgs’\n",
    "ridge_regression.fit(X_train, y_train)\n",
    "y_pred_ridge = ridge_regression.predict(X_test)\n",
    "compute_scores(y_test, y_pred_ridge)"
   ]
  },
  {
   "cell_type": "markdown",
   "metadata": {},
   "source": [
    "#### Shrinkage - Lasso"
   ]
  },
  {
   "cell_type": "code",
   "execution_count": 20,
   "metadata": {},
   "outputs": [
    {
     "name": "stdout",
     "output_type": "stream",
     "text": [
      "MAE :  14735.211625845215\n",
      "MSE :  413786300.6856904\n",
      "RMSE :  20341.737897379622\n",
      "R2 :  0.8316628949432916\n"
     ]
    }
   ],
   "source": [
    "lasso_regression = linear_model.Lasso(alpha=0.1, random_state = 13)\n",
    "lasso_regression.fit(X_train, y_train)\n",
    "y_pred_lasso = lasso_regression.predict(X_test)\n",
    "compute_scores(y_test, y_pred_lasso)"
   ]
  },
  {
   "cell_type": "code",
   "execution_count": 26,
   "metadata": {},
   "outputs": [
    {
     "data": {
      "text/plain": [
       "CropPredictor(\n",
       "  (linear_layer_stack): Sequential(\n",
       "    (0): Linear(in_features=8, out_features=15, bias=True)\n",
       "    (1): ReLU()\n",
       "    (2): Linear(in_features=15, out_features=15, bias=True)\n",
       "    (3): ReLU()\n",
       "    (4): Linear(in_features=15, out_features=1, bias=True)\n",
       "  )\n",
       ")"
      ]
     },
     "execution_count": 26,
     "metadata": {},
     "output_type": "execute_result"
    }
   ],
   "source": [
    "class CropPredictor(nn.Module):\n",
    "    def __init__(self, input_features, hidden_units) -> None:\n",
    "        super().__init__()\n",
    "        self.linear_layer_stack = nn.Sequential(\n",
    "            nn.Linear(in_features=input_features, out_features=hidden_units),\n",
    "            nn.ReLU(),\n",
    "            nn.Linear(in_features=hidden_units, out_features=hidden_units),\n",
    "            nn.ReLU(),\n",
    "            nn.Linear(in_features=hidden_units, out_features=1)\n",
    "        )\n",
    "    def forward(self, x):\n",
    "        return self.linear_layer_stack(x)\n",
    "\n",
    "torch.manual_seed(13)\n",
    "model_0 = CropPredictor(len(X_train.columns), 5)\n",
    "model_0"
   ]
  },
  {
   "cell_type": "code",
   "execution_count": 27,
   "metadata": {},
   "outputs": [],
   "source": [
    "loss_fn = nn.L1Loss()\n",
    "optimizer = torch.optim.SGD(model_0.parameters(), lr=0.01)"
   ]
  },
  {
   "cell_type": "code",
   "execution_count": 52,
   "metadata": {},
   "outputs": [
    {
     "data": {
      "text/plain": [
       "tensor([[-0.9102, -0.7440, -0.5786,  ...,  0.0000,  0.0000,  0.0000],\n",
       "        [ 0.2992,  0.0197,  1.9106,  ...,  0.0000,  0.0000,  1.0000],\n",
       "        [ 0.2992,  0.0197, -0.5780,  ...,  0.0000,  0.0000,  0.0000],\n",
       "        ...,\n",
       "        [-1.3939,  0.8094, -0.5639,  ...,  1.0000,  0.0000,  0.0000],\n",
       "        [ 1.9922,  1.0766, -0.4514,  ...,  0.0000,  1.0000,  0.0000],\n",
       "        [-0.5992,  1.5948, -0.5638,  ...,  1.0000,  0.0000,  0.0000]],\n",
       "       dtype=torch.float64)"
      ]
     },
     "execution_count": 52,
     "metadata": {},
     "output_type": "execute_result"
    }
   ],
   "source": [
    "torch.tensor(X_train[:].values)"
   ]
  },
  {
   "cell_type": "code",
   "execution_count": 45,
   "metadata": {},
   "outputs": [
    {
     "ename": "ValueError",
     "evalue": "could not determine the shape of object type 'DataFrame'",
     "output_type": "error",
     "traceback": [
      "\u001b[0;31m---------------------------------------------------------------------------\u001b[0m",
      "\u001b[0;31mValueError\u001b[0m                                Traceback (most recent call last)",
      "\u001b[1;32m/Users/purushothamanyadav/Documents/MS/NCSU/Fall22/Data Science/HWs/HW6/Crop-Yield-Prediction/models.ipynb Cell 20\u001b[0m in \u001b[0;36m<cell line: 1>\u001b[0;34m()\u001b[0m\n\u001b[0;32m----> <a href='vscode-notebook-cell:/Users/purushothamanyadav/Documents/MS/NCSU/Fall22/Data%20Science/HWs/HW6/Crop-Yield-Prediction/models.ipynb#X34sZmlsZQ%3D%3D?line=0'>1</a>\u001b[0m torch\u001b[39m.\u001b[39;49mtensor(X_train)\n",
      "\u001b[0;31mValueError\u001b[0m: could not determine the shape of object type 'DataFrame'"
     ]
    }
   ],
   "source": [
    "torch.tensor(X_train)"
   ]
  },
  {
   "cell_type": "code",
   "execution_count": 33,
   "metadata": {},
   "outputs": [],
   "source": [
    "l = X_train.to_numpy()"
   ]
  },
  {
   "cell_type": "code",
   "execution_count": 61,
   "metadata": {},
   "outputs": [
    {
     "name": "stdout",
     "output_type": "stream",
     "text": [
      "Epoch: 0 | Train loss: 33355.8984375 | Test loss: 38635.609375\n",
      "Epoch: 100 | Train loss: 33324.515625 | Test loss: 38633.7578125\n",
      "Epoch: 200 | Train loss: 33380.984375 | Test loss: 38633.37890625\n",
      "Epoch: 300 | Train loss: 33368.2265625 | Test loss: 38634.8046875\n",
      "Epoch: 400 | Train loss: 33312.921875 | Test loss: 38630.10546875\n",
      "Epoch: 500 | Train loss: 33343.98046875 | Test loss: 38634.359375\n",
      "Epoch: 600 | Train loss: 33371.43359375 | Test loss: 38635.578125\n",
      "Epoch: 700 | Train loss: 33392.35546875 | Test loss: 38633.171875\n",
      "Epoch: 800 | Train loss: 33295.99609375 | Test loss: 38636.21484375\n",
      "Epoch: 900 | Train loss: 33359.88671875 | Test loss: 38636.76171875\n",
      "Epoch: 1000 | Train loss: 33370.39453125 | Test loss: 38634.9921875\n",
      "Epoch: 1100 | Train loss: 33378.109375 | Test loss: 38632.8984375\n",
      "Epoch: 1200 | Train loss: 33288.203125 | Test loss: 38635.15234375\n",
      "Epoch: 1300 | Train loss: 33288.69140625 | Test loss: 38634.75\n",
      "Epoch: 1400 | Train loss: 33307.94140625 | Test loss: 38626.95703125\n",
      "Epoch: 1500 | Train loss: 33396.1171875 | Test loss: 38629.13671875\n",
      "Epoch: 1600 | Train loss: 33330.421875 | Test loss: 38633.8671875\n",
      "Epoch: 1700 | Train loss: 33270.265625 | Test loss: 38636.6875\n",
      "Epoch: 1800 | Train loss: 33358.4453125 | Test loss: 38634.93359375\n",
      "Epoch: 1900 | Train loss: 33351.6015625 | Test loss: 38633.578125\n",
      "Epoch: 2000 | Train loss: 33305.17578125 | Test loss: 38627.05859375\n",
      "Epoch: 2100 | Train loss: 33353.96484375 | Test loss: 38635.59765625\n",
      "Epoch: 2200 | Train loss: 33344.8828125 | Test loss: 38631.82421875\n",
      "Epoch: 2300 | Train loss: 33312.109375 | Test loss: 38631.390625\n",
      "Epoch: 2400 | Train loss: 33262.1875 | Test loss: 38632.2265625\n",
      "Epoch: 2500 | Train loss: 33347.125 | Test loss: 38632.1640625\n",
      "Epoch: 2600 | Train loss: 33285.51953125 | Test loss: 38633.546875\n",
      "Epoch: 2700 | Train loss: 33325.359375 | Test loss: 38631.578125\n",
      "Epoch: 2800 | Train loss: 33348.10546875 | Test loss: 38630.5546875\n",
      "Epoch: 2900 | Train loss: 33275.6484375 | Test loss: 38634.3671875\n",
      "Epoch: 3000 | Train loss: 33273.90234375 | Test loss: 38635.453125\n",
      "Epoch: 3100 | Train loss: 33290.25 | Test loss: 38630.12890625\n",
      "Epoch: 3200 | Train loss: 33248.12890625 | Test loss: 38632.0234375\n",
      "Epoch: 3300 | Train loss: 33289.93359375 | Test loss: 38630.39453125\n",
      "Epoch: 3400 | Train loss: 33347.28125 | Test loss: 38629.80859375\n",
      "Epoch: 3500 | Train loss: 33302.828125 | Test loss: 38625.796875\n",
      "Epoch: 3600 | Train loss: 33284.9765625 | Test loss: 38632.1953125\n",
      "Epoch: 3700 | Train loss: 33342.640625 | Test loss: 38630.1015625\n",
      "Epoch: 3800 | Train loss: 33244.39453125 | Test loss: 38630.984375\n",
      "Epoch: 3900 | Train loss: 33304.45703125 | Test loss: 38629.546875\n",
      "Epoch: 4000 | Train loss: 33266.79296875 | Test loss: 38631.921875\n",
      "Epoch: 4100 | Train loss: 33270.52734375 | Test loss: 38631.765625\n",
      "Epoch: 4200 | Train loss: 33318.4140625 | Test loss: 38626.015625\n",
      "Epoch: 4300 | Train loss: 33276.3671875 | Test loss: 38632.453125\n",
      "Epoch: 4400 | Train loss: 33261.69140625 | Test loss: 38630.98828125\n",
      "Epoch: 4500 | Train loss: 33269.3828125 | Test loss: 38631.76953125\n",
      "Epoch: 4600 | Train loss: 33260.35546875 | Test loss: 38629.83984375\n",
      "Epoch: 4700 | Train loss: 33262.21875 | Test loss: 38630.60546875\n",
      "Epoch: 4800 | Train loss: 33262.71875 | Test loss: 38629.76953125\n",
      "Epoch: 4900 | Train loss: 33262.5390625 | Test loss: 38629.53515625\n",
      "Epoch: 5000 | Train loss: 33253.6484375 | Test loss: 38628.4296875\n",
      "Epoch: 5100 | Train loss: 33261.109375 | Test loss: 38630.13671875\n",
      "Epoch: 5200 | Train loss: 33260.41015625 | Test loss: 38630.0625\n",
      "Epoch: 5300 | Train loss: 33255.55859375 | Test loss: 38629.20703125\n",
      "Epoch: 5400 | Train loss: 33257.14453125 | Test loss: 38629.078125\n",
      "Epoch: 5500 | Train loss: 33259.390625 | Test loss: 38629.484375\n",
      "Epoch: 5600 | Train loss: 33255.34765625 | Test loss: 38628.8359375\n",
      "Epoch: 5700 | Train loss: 33280.02734375 | Test loss: 38630.39453125\n",
      "Epoch: 5800 | Train loss: 33258.27734375 | Test loss: 38629.04296875\n",
      "Epoch: 5900 | Train loss: 33270.5234375 | Test loss: 38630.3125\n",
      "Epoch: 6000 | Train loss: 33284.20703125 | Test loss: 38628.35546875\n",
      "Epoch: 6100 | Train loss: 33254.28515625 | Test loss: 38628.3828125\n",
      "Epoch: 6200 | Train loss: 33257.41015625 | Test loss: 38627.66015625\n",
      "Epoch: 6300 | Train loss: 33260.0546875 | Test loss: 38626.81640625\n",
      "Epoch: 6400 | Train loss: 33261.30859375 | Test loss: 38626.953125\n",
      "Epoch: 6500 | Train loss: 33250.46484375 | Test loss: 38625.76953125\n",
      "Epoch: 6600 | Train loss: 33259.3046875 | Test loss: 38626.63671875\n",
      "Epoch: 6700 | Train loss: 33262.421875 | Test loss: 38626.04296875\n",
      "Epoch: 6800 | Train loss: 33260.59375 | Test loss: 38625.84375\n",
      "Epoch: 6900 | Train loss: 33247.0078125 | Test loss: 38624.3984375\n",
      "Epoch: 7000 | Train loss: 33255.890625 | Test loss: 38625.65625\n",
      "Epoch: 7100 | Train loss: 33280.64453125 | Test loss: 38624.29296875\n",
      "Epoch: 7200 | Train loss: 33288.36328125 | Test loss: 38623.47265625\n",
      "Epoch: 7300 | Train loss: 33225.05078125 | Test loss: 38620.6875\n",
      "Epoch: 7400 | Train loss: 33288.76171875 | Test loss: 38622.9765625\n",
      "Epoch: 7500 | Train loss: 33281.71875 | Test loss: 38623.765625\n",
      "Epoch: 7600 | Train loss: 33283.4765625 | Test loss: 38623.44140625\n",
      "Epoch: 7700 | Train loss: 33280.33203125 | Test loss: 38623.7890625\n",
      "Epoch: 7800 | Train loss: 33264.828125 | Test loss: 38626.93359375\n",
      "Epoch: 7900 | Train loss: 33284.57421875 | Test loss: 38622.24609375\n",
      "Epoch: 8000 | Train loss: 33270.734375 | Test loss: 38626.140625\n",
      "Epoch: 8100 | Train loss: 33264.796875 | Test loss: 38626.58203125\n",
      "Epoch: 8200 | Train loss: 33254.09375 | Test loss: 38627.5859375\n",
      "Epoch: 8300 | Train loss: 33229.7265625 | Test loss: 38620.53515625\n",
      "Epoch: 8400 | Train loss: 33261.47265625 | Test loss: 38627.30859375\n",
      "Epoch: 8500 | Train loss: 33259.0703125 | Test loss: 38626.74609375\n",
      "Epoch: 8600 | Train loss: 33253.58984375 | Test loss: 38626.53125\n",
      "Epoch: 8700 | Train loss: 33252.71875 | Test loss: 38624.875\n",
      "Epoch: 8800 | Train loss: 33248.6484375 | Test loss: 38625.83984375\n",
      "Epoch: 8900 | Train loss: 33229.40625 | Test loss: 38621.63671875\n",
      "Epoch: 9000 | Train loss: 33253.6953125 | Test loss: 38626.609375\n",
      "Epoch: 9100 | Train loss: 33238.578125 | Test loss: 38621.1171875\n",
      "Epoch: 9200 | Train loss: 33253.75390625 | Test loss: 38626.359375\n",
      "Epoch: 9300 | Train loss: 33221.88671875 | Test loss: 38618.640625\n",
      "Epoch: 9400 | Train loss: 33256.5 | Test loss: 38625.859375\n",
      "Epoch: 9500 | Train loss: 33248.0234375 | Test loss: 38624.60546875\n",
      "Epoch: 9600 | Train loss: 33244.05078125 | Test loss: 38623.8671875\n",
      "Epoch: 9700 | Train loss: 33252.74609375 | Test loss: 38623.71484375\n",
      "Epoch: 9800 | Train loss: 33242.86328125 | Test loss: 38622.69140625\n",
      "Epoch: 9900 | Train loss: 33226.09765625 | Test loss: 38617.953125\n"
     ]
    }
   ],
   "source": [
    "torch.manual_seed(13)\n",
    "\n",
    "# Set the number of epochs \n",
    "epochs = 10000\n",
    "\n",
    "# Put data on the available device\n",
    "# Without this, error will happen (not all model/data on device)\n",
    "# X_train = torch.tensor(X_train[:].values).float()\n",
    "# X_test = torch.tensor(X_test[:].values).float()\n",
    "# y_train = torch.tensor(y_train[:].values).float()\n",
    "# y_test = torch.tensor(y_test[:].values).float()\n",
    "\n",
    "train_loss_values = []\n",
    "test_loss_values = []\n",
    "epoch_count = []\n",
    "\n",
    "for epoch in range(epochs):\n",
    "    ### Training\n",
    "    model_0.train() # train mode is on by default after construction\n",
    "\n",
    "    # 1. Forward pass\n",
    "    y_pred = model_0(X_train)\n",
    "\n",
    "    # 2. Calculate loss\n",
    "    loss = loss_fn(y_pred, y_train)\n",
    "\n",
    "    # 3. Zero grad optimizer\n",
    "    optimizer.zero_grad()\n",
    "\n",
    "    # 4. Loss backward\n",
    "    loss.backward()\n",
    "\n",
    "    # 5. Step the optimizer\n",
    "    optimizer.step()\n",
    "\n",
    "    ### Testing\n",
    "    model_0.eval() # put the model in evaluation mode for testing (inference)\n",
    "    # 1. Forward pass\n",
    "    with torch.inference_mode():\n",
    "        test_pred = model_0(X_test)\n",
    "    \n",
    "        # 2. Calculate the loss\n",
    "        test_loss = loss_fn(test_pred, y_test)\n",
    "\n",
    "    if epoch % 100 == 0:\n",
    "        epoch_count.append(epoch)\n",
    "        train_loss_values.append(loss.detach().numpy())\n",
    "        test_loss_values.append(test_loss.detach().numpy())\n",
    "        print(f\"Epoch: {epoch} | Train loss: {loss} | Test loss: {test_loss}\")"
   ]
  },
  {
   "cell_type": "code",
   "execution_count": 62,
   "metadata": {},
   "outputs": [
    {
     "data": {
      "image/png": "[encoded data removed]",
      "text/plain": [
       "<Figure size 640x480 with 1 Axes>"
      ]
     },
     "metadata": {},
     "output_type": "display_data"
    }
   ],
   "source": [
    "# Plot the loss curves\n",
    "plt.plot(epoch_count, train_loss_values, label=\"Train loss\")\n",
    "plt.plot(epoch_count, test_loss_values, label=\"Test loss\")\n",
    "plt.title(\"Training and test loss curves\")\n",
    "plt.ylabel(\"Loss\")\n",
    "plt.xlabel(\"Epochs\")\n",
    "plt.legend();"
   ]
  },
  {
   "cell_type": "code",
   "execution_count": null,
   "metadata": {},
   "outputs": [],
   "source": []
  }
 ],
 "metadata": {
  "kernelspec": {
   "display_name": "Python 3.10.6 ('dataScience': venv)",
   "language": "python",
   "name": "python3"
  },
  "language_info": {
   "codemirror_mode": {
    "name": "ipython",
    "version": 3
   },
   "file_extension": ".py",
   "mimetype": "text/x-python",
   "name": "python",
   "nbconvert_exporter": "python",
   "pygments_lexer": "ipython3",
   "version": "3.10.6"
  },
  "orig_nbformat": 4,
  "vscode": {
   "interpreter": {
    "hash": "678308bdef9bf48e3066c9f68a4f1176e9e29eec7dc2447a7347cd1dd6394b31"
   }
  }
 },
 "nbformat": 4,
 "nbformat_minor": 2
}
