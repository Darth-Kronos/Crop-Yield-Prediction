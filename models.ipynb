{
 "cells": [
  {
   "cell_type": "code",
   "execution_count": 2,
   "metadata": {},
   "outputs": [],
   "source": [
    "import pandas as pd\n",
    "import numpy as np\n",
    "import matplotlib.pyplot as plt\n",
    "import math"
   ]
  },
  {
   "cell_type": "code",
   "execution_count": 7,
   "metadata": {},
   "outputs": [],
   "source": [
    "import sklearn.metrics as metrics\n",
    "from sklearn.linear_model import Ridge\n",
    "from sklearn import linear_model\n",
    "from sklearn.linear_model import LinearRegression\n",
    "from sklearn.tree import DecisionTreeRegressor\n",
    "from sklearn.neighbors import NearestNeighbors\n"
   ]
  },
  {
   "cell_type": "code",
   "execution_count": null,
   "metadata": {},
   "outputs": [],
   "source": [
    "df = pd.read_csv(\"./\")"
   ]
  },
  {
   "cell_type": "code",
   "execution_count": null,
   "metadata": {},
   "outputs": [],
   "source": [
    "def preprocess(df):\n",
    "\n",
    "\n",
    "\n",
    "    return X, x_train, x_test, y_train, y_test"
   ]
  },
  {
   "cell_type": "code",
   "execution_count": null,
   "metadata": {},
   "outputs": [],
   "source": [
    "def compute_scores(y_test, y_pred):\n",
    "    mae = metrics.mean_absolute_error(y_test, y_pred)\n",
    "    mse = metrics.mean_squared_error(y_test, y_pred)\n",
    "    rmse = math.sqrt(mse) \n",
    "    r2 = metrics.r2_score(y_test, y_pred)\n",
    "    print(\"MAE : \",mae)\n",
    "    print(\"MSE : \",mse)\n",
    "    print(\"RMSE : \",rmse)\n",
    "    print(\"R2 : \",r2)"
   ]
  },
  {
   "cell_type": "code",
   "execution_count": null,
   "metadata": {},
   "outputs": [],
   "source": [
    "X, x_train, x_test, y_train, y_test, x_scaled = preprocess(df)"
   ]
  },
  {
   "cell_type": "code",
   "execution_count": null,
   "metadata": {},
   "outputs": [],
   "source": [
    "correlation_matrix = pd.DataFrame(X).corr()\n",
    "plt.matshow(correlation_matrix)\n",
    "plt.show()"
   ]
  },
  {
   "cell_type": "markdown",
   "metadata": {},
   "source": [
    "#### Linear Regression"
   ]
  },
  {
   "cell_type": "code",
   "execution_count": null,
   "metadata": {},
   "outputs": [],
   "source": [
    "model_lin = LinearRegression(random_state = 13)\n",
    "model_lin.fit(x_train, y_train)\n",
    "y_pred_linear= model_lin.predict(x_test)\n",
    "compute_scores(y_test, y_pred_linear)"
   ]
  },
  {
   "cell_type": "markdown",
   "metadata": {},
   "source": [
    "#### Decision Tree"
   ]
  },
  {
   "cell_type": "code",
   "execution_count": null,
   "metadata": {},
   "outputs": [],
   "source": [
    "dt_regression = DecisionTreeRegressor(random_state = 13)\n",
    "dt_regression.fit(x_train, y_train)\n",
    "y_pred_dt = dt_regression.predict(x_test)\n",
    "compute_scores(y_test, y_pred_dt)"
   ]
  },
  {
   "cell_type": "markdown",
   "metadata": {},
   "source": [
    "#### KNN"
   ]
  },
  {
   "cell_type": "code",
   "execution_count": null,
   "metadata": {},
   "outputs": [],
   "source": [
    "kNN = NearestNeighbors(n_neighbors=1, random_state = 13) #tweak number of neighbours\n",
    "kNN.fit(x_train, y_train)\n",
    "y_pred_knn = kNN.predict(x_test)\n",
    "compute_scores(y_test, y_pred_knn)"
   ]
  },
  {
   "cell_type": "markdown",
   "metadata": {},
   "source": [
    "#### Shrinkage - Ridge"
   ]
  },
  {
   "cell_type": "code",
   "execution_count": 5,
   "metadata": {},
   "outputs": [
    {
     "ename": "NameError",
     "evalue": "name 'X' is not defined",
     "output_type": "error",
     "traceback": [
      "\u001b[1;31m---------------------------------------------------------------------------\u001b[0m",
      "\u001b[1;31mNameError\u001b[0m                                 Traceback (most recent call last)",
      "\u001b[1;32mc:\\Users\\ashwi\\Desktop\\Crop-Yield-Prediction\\models.ipynb Cell 11\u001b[0m in \u001b[0;36m<cell line: 2>\u001b[1;34m()\u001b[0m\n\u001b[0;32m      <a href='vscode-notebook-cell:/c%3A/Users/ashwi/Desktop/Crop-Yield-Prediction/models.ipynb#X13sZmlsZQ%3D%3D?line=0'>1</a>\u001b[0m ridge_regression \u001b[39m=\u001b[39m Ridge(alpha\u001b[39m=\u001b[39m\u001b[39m1.0\u001b[39m)\n\u001b[1;32m----> <a href='vscode-notebook-cell:/c%3A/Users/ashwi/Desktop/Crop-Yield-Prediction/models.ipynb#X13sZmlsZQ%3D%3D?line=1'>2</a>\u001b[0m ridge_regression\u001b[39m.\u001b[39mfit(X, y)\n",
      "\u001b[1;31mNameError\u001b[0m: name 'X' is not defined"
     ]
    }
   ],
   "source": [
    "ridge_regression = Ridge(alpha=1.0, solver = '', random_state = 13) #if we use alpha = 0, it becomes simple LR problem, solver = ‘auto’, ‘svd’, ‘cholesky’, ‘lsqr’, ‘sparse_cg’, ‘sag’, ‘saga’, ‘lbfgs’\n",
    "ridge_regression.fit(x_train, y_train)\n",
    "y_pred_ridge = ridge_regression.predict(x_test)\n",
    "compute_scores(y_test, y_pred_ridge)"
   ]
  },
  {
   "cell_type": "markdown",
   "metadata": {},
   "source": [
    "#### Shrinkage - Lasso"
   ]
  },
  {
   "cell_type": "code",
   "execution_count": null,
   "metadata": {},
   "outputs": [],
   "source": [
    "lasso_regression = linear_model.Lasso(alpha=0.1, random_state = 13)\n",
    "lasso_regression.fit(x_train, y_train)\n",
    "y_pred_lasso = lasso_regression.predict(x_test)\n",
    "compute_scores(y_test, y_pred_lasso)"
   ]
  }
 ],
 "metadata": {
  "kernelspec": {
   "display_name": "Python 3.9.12 ('base')",
   "language": "python",
   "name": "python3"
  },
  "language_info": {
   "codemirror_mode": {
    "name": "ipython",
    "version": 3
   },
   "file_extension": ".py",
   "mimetype": "text/x-python",
   "name": "python",
   "nbconvert_exporter": "python",
   "pygments_lexer": "ipython3",
   "version": "3.9.12"
  },
  "orig_nbformat": 4,
  "vscode": {
   "interpreter": {
    "hash": "85cd0a157dede754d33199b6937e987ae65a4bc2ddea76c737d70bce3767773f"
   }
  }
 },
 "nbformat": 4,
 "nbformat_minor": 2
}
