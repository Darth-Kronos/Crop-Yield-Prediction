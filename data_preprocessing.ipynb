{
 "cells": [
  {
   "cell_type": "code",
   "execution_count": 1,
   "metadata": {},
   "outputs": [],
   "source": [
    "from sklearn.preprocessing import LabelEncoder\n",
    "from sklearn import preprocessing\n",
    "from sklearn.model_selection import train_test_split\n",
    "import pandas as pd"
   ]
  },
  {
   "cell_type": "code",
   "execution_count": 66,
   "metadata": {},
   "outputs": [],
   "source": [
    "def preprocess(df):\n",
    "    df = df.dropna()\n",
    "    feature_cols = ['Year', 'Crop', 'Precipitation', 'Temperature_avg', 'Temperature_max', 'Pesticide', 'Fertilizer']\n",
    "    X = df[feature_cols].copy(deep=True)\n",
    "    y = df['Yield'].copy(deep=True)\n",
    "    # label encoding\n",
    "    le = LabelEncoder()\n",
    "    X['Crop'] = le.fit_transform(X['Crop'])\n",
    "    # scaling\n",
    "    scaling_cols = ['Precipitation', 'Temperature_avg', 'Temperature_max', 'Pesticide', 'Fertilizer']\n",
    "    scaler = preprocessing.StandardScaler()\n",
    "    X = scaler.fit_transform(X)\n",
    "    # X = scaler.fit_transform(X[scaling_cols])\n",
    "    X_train, X_test, y_train, y_test = train_test_split(X, y, test_size = 0.20, random_state = 42)\n",
    "    return X_train, X_test, y_train, y_test, X\n",
    "    "
   ]
  },
  {
   "cell_type": "code",
   "execution_count": 62,
   "metadata": {},
   "outputs": [],
   "source": [
    "df = pd.read_csv(\"./Training_Data.csv\")"
   ]
  },
  {
   "cell_type": "code",
   "execution_count": 65,
   "metadata": {},
   "outputs": [
    {
     "data": {
      "text/html": [
       "<div>\n",
       "<style scoped>\n",
       "    .dataframe tbody tr th:only-of-type {\n",
       "        vertical-align: middle;\n",
       "    }\n",
       "\n",
       "    .dataframe tbody tr th {\n",
       "        vertical-align: top;\n",
       "    }\n",
       "\n",
       "    .dataframe thead th {\n",
       "        text-align: right;\n",
       "    }\n",
       "</style>\n",
       "<table border=\"1\" class=\"dataframe\">\n",
       "  <thead>\n",
       "    <tr style=\"text-align: right;\">\n",
       "      <th></th>\n",
       "      <th>Crop</th>\n",
       "      <th>Year</th>\n",
       "      <th>Yield</th>\n",
       "      <th>Fertilizer</th>\n",
       "      <th>Pesticide</th>\n",
       "      <th>Precipitation</th>\n",
       "      <th>Temperature_avg</th>\n",
       "      <th>Temperature_max</th>\n",
       "    </tr>\n",
       "  </thead>\n",
       "  <tbody>\n",
       "    <tr>\n",
       "      <th>0</th>\n",
       "      <td>Avocados</td>\n",
       "      <td>1990</td>\n",
       "      <td>88709</td>\n",
       "      <td>1798400.00</td>\n",
       "      <td>26624.98</td>\n",
       "      <td>821.09</td>\n",
       "      <td>20.96</td>\n",
       "      <td>28.43</td>\n",
       "    </tr>\n",
       "    <tr>\n",
       "      <th>1</th>\n",
       "      <td>Avocados</td>\n",
       "      <td>1991</td>\n",
       "      <td>94108</td>\n",
       "      <td>1619400.00</td>\n",
       "      <td>26624.98</td>\n",
       "      <td>754.55</td>\n",
       "      <td>20.90</td>\n",
       "      <td>28.45</td>\n",
       "    </tr>\n",
       "    <tr>\n",
       "      <th>2</th>\n",
       "      <td>Avocados</td>\n",
       "      <td>1992</td>\n",
       "      <td>82795</td>\n",
       "      <td>1616000.00</td>\n",
       "      <td>26624.98</td>\n",
       "      <td>779.30</td>\n",
       "      <td>20.68</td>\n",
       "      <td>28.04</td>\n",
       "    </tr>\n",
       "    <tr>\n",
       "      <th>3</th>\n",
       "      <td>Avocados</td>\n",
       "      <td>1993</td>\n",
       "      <td>85672</td>\n",
       "      <td>1591900.00</td>\n",
       "      <td>26624.98</td>\n",
       "      <td>773.06</td>\n",
       "      <td>20.96</td>\n",
       "      <td>28.55</td>\n",
       "    </tr>\n",
       "    <tr>\n",
       "      <th>4</th>\n",
       "      <td>Avocados</td>\n",
       "      <td>1994</td>\n",
       "      <td>89132</td>\n",
       "      <td>1647900.00</td>\n",
       "      <td>26624.98</td>\n",
       "      <td>657.44</td>\n",
       "      <td>21.38</td>\n",
       "      <td>29.02</td>\n",
       "    </tr>\n",
       "    <tr>\n",
       "      <th>...</th>\n",
       "      <td>...</td>\n",
       "      <td>...</td>\n",
       "      <td>...</td>\n",
       "      <td>...</td>\n",
       "      <td>...</td>\n",
       "      <td>...</td>\n",
       "      <td>...</td>\n",
       "      <td>...</td>\n",
       "    </tr>\n",
       "    <tr>\n",
       "      <th>119</th>\n",
       "      <td>Wheat</td>\n",
       "      <td>2016</td>\n",
       "      <td>53388</td>\n",
       "      <td>2186326.67</td>\n",
       "      <td>47421.33</td>\n",
       "      <td>801.73</td>\n",
       "      <td>21.75</td>\n",
       "      <td>29.36</td>\n",
       "    </tr>\n",
       "    <tr>\n",
       "      <th>120</th>\n",
       "      <td>Wheat</td>\n",
       "      <td>2017</td>\n",
       "      <td>52967</td>\n",
       "      <td>2139573.61</td>\n",
       "      <td>50801.94</td>\n",
       "      <td>795.08</td>\n",
       "      <td>22.03</td>\n",
       "      <td>29.75</td>\n",
       "    </tr>\n",
       "    <tr>\n",
       "      <th>121</th>\n",
       "      <td>Wheat</td>\n",
       "      <td>2018</td>\n",
       "      <td>54373</td>\n",
       "      <td>2140490.90</td>\n",
       "      <td>53144.44</td>\n",
       "      <td>783.02</td>\n",
       "      <td>21.66</td>\n",
       "      <td>29.18</td>\n",
       "    </tr>\n",
       "    <tr>\n",
       "      <th>122</th>\n",
       "      <td>Wheat</td>\n",
       "      <td>2019</td>\n",
       "      <td>55308</td>\n",
       "      <td>2086911.73</td>\n",
       "      <td>48989.20</td>\n",
       "      <td>721.02</td>\n",
       "      <td>21.88</td>\n",
       "      <td>29.46</td>\n",
       "    </tr>\n",
       "    <tr>\n",
       "      <th>123</th>\n",
       "      <td>Wheat</td>\n",
       "      <td>2020</td>\n",
       "      <td>53212</td>\n",
       "      <td>2139664.12</td>\n",
       "      <td>41681.11</td>\n",
       "      <td>691.92</td>\n",
       "      <td>22.08</td>\n",
       "      <td>29.92</td>\n",
       "    </tr>\n",
       "  </tbody>\n",
       "</table>\n",
       "<p>124 rows × 8 columns</p>\n",
       "</div>"
      ],
      "text/plain": [
       "         Crop  Year  Yield  Fertilizer  Pesticide  Precipitation  \\\n",
       "0    Avocados  1990  88709  1798400.00   26624.98         821.09   \n",
       "1    Avocados  1991  94108  1619400.00   26624.98         754.55   \n",
       "2    Avocados  1992  82795  1616000.00   26624.98         779.30   \n",
       "3    Avocados  1993  85672  1591900.00   26624.98         773.06   \n",
       "4    Avocados  1994  89132  1647900.00   26624.98         657.44   \n",
       "..        ...   ...    ...         ...        ...            ...   \n",
       "119     Wheat  2016  53388  2186326.67   47421.33         801.73   \n",
       "120     Wheat  2017  52967  2139573.61   50801.94         795.08   \n",
       "121     Wheat  2018  54373  2140490.90   53144.44         783.02   \n",
       "122     Wheat  2019  55308  2086911.73   48989.20         721.02   \n",
       "123     Wheat  2020  53212  2139664.12   41681.11         691.92   \n",
       "\n",
       "     Temperature_avg  Temperature_max  \n",
       "0              20.96            28.43  \n",
       "1              20.90            28.45  \n",
       "2              20.68            28.04  \n",
       "3              20.96            28.55  \n",
       "4              21.38            29.02  \n",
       "..               ...              ...  \n",
       "119            21.75            29.36  \n",
       "120            22.03            29.75  \n",
       "121            21.66            29.18  \n",
       "122            21.88            29.46  \n",
       "123            22.08            29.92  \n",
       "\n",
       "[124 rows x 8 columns]"
      ]
     },
     "execution_count": 65,
     "metadata": {},
     "output_type": "execute_result"
    }
   ],
   "source": [
    "df"
   ]
  },
  {
   "cell_type": "code",
   "execution_count": 67,
   "metadata": {},
   "outputs": [],
   "source": [
    "x_train, x_test, y_train, y_test, x_scaled = preprocess(df)"
   ]
  },
  {
   "cell_type": "code",
   "execution_count": 49,
   "metadata": {},
   "outputs": [
    {
     "data": {
      "text/plain": [
       "(543, 5)"
      ]
     },
     "execution_count": 49,
     "metadata": {},
     "output_type": "execute_result"
    }
   ],
   "source": [
    "x_scaled.shape"
   ]
  },
  {
   "cell_type": "code",
   "execution_count": 68,
   "metadata": {},
   "outputs": [
    {
     "data": {
      "text/html": [
       "<div>\n",
       "<style scoped>\n",
       "    .dataframe tbody tr th:only-of-type {\n",
       "        vertical-align: middle;\n",
       "    }\n",
       "\n",
       "    .dataframe tbody tr th {\n",
       "        vertical-align: top;\n",
       "    }\n",
       "\n",
       "    .dataframe thead th {\n",
       "        text-align: right;\n",
       "    }\n",
       "</style>\n",
       "<table border=\"1\" class=\"dataframe\">\n",
       "  <thead>\n",
       "    <tr style=\"text-align: right;\">\n",
       "      <th></th>\n",
       "      <th>0</th>\n",
       "      <th>1</th>\n",
       "      <th>2</th>\n",
       "      <th>3</th>\n",
       "      <th>4</th>\n",
       "      <th>5</th>\n",
       "      <th>6</th>\n",
       "    </tr>\n",
       "  </thead>\n",
       "  <tbody>\n",
       "    <tr>\n",
       "      <th>0</th>\n",
       "      <td>1.000000e+00</td>\n",
       "      <td>-1.074409e-17</td>\n",
       "      <td>1.262250e-01</td>\n",
       "      <td>7.319379e-01</td>\n",
       "      <td>6.562071e-01</td>\n",
       "      <td>7.668011e-01</td>\n",
       "      <td>6.548688e-01</td>\n",
       "    </tr>\n",
       "    <tr>\n",
       "      <th>1</th>\n",
       "      <td>-1.074409e-17</td>\n",
       "      <td>1.000000e+00</td>\n",
       "      <td>4.297638e-17</td>\n",
       "      <td>-3.223228e-17</td>\n",
       "      <td>-1.325105e-16</td>\n",
       "      <td>6.267388e-18</td>\n",
       "      <td>1.432546e-17</td>\n",
       "    </tr>\n",
       "    <tr>\n",
       "      <th>2</th>\n",
       "      <td>1.262250e-01</td>\n",
       "      <td>4.297638e-17</td>\n",
       "      <td>1.000000e+00</td>\n",
       "      <td>-2.597006e-01</td>\n",
       "      <td>-3.058083e-01</td>\n",
       "      <td>1.188437e-01</td>\n",
       "      <td>8.152629e-02</td>\n",
       "    </tr>\n",
       "    <tr>\n",
       "      <th>3</th>\n",
       "      <td>7.319379e-01</td>\n",
       "      <td>-3.223228e-17</td>\n",
       "      <td>-2.597006e-01</td>\n",
       "      <td>1.000000e+00</td>\n",
       "      <td>9.528096e-01</td>\n",
       "      <td>5.075842e-01</td>\n",
       "      <td>6.270734e-01</td>\n",
       "    </tr>\n",
       "    <tr>\n",
       "      <th>4</th>\n",
       "      <td>6.562071e-01</td>\n",
       "      <td>-1.325105e-16</td>\n",
       "      <td>-3.058083e-01</td>\n",
       "      <td>9.528096e-01</td>\n",
       "      <td>1.000000e+00</td>\n",
       "      <td>5.063225e-01</td>\n",
       "      <td>5.549260e-01</td>\n",
       "    </tr>\n",
       "    <tr>\n",
       "      <th>5</th>\n",
       "      <td>7.668011e-01</td>\n",
       "      <td>6.267388e-18</td>\n",
       "      <td>1.188437e-01</td>\n",
       "      <td>5.075842e-01</td>\n",
       "      <td>5.063225e-01</td>\n",
       "      <td>1.000000e+00</td>\n",
       "      <td>4.627655e-01</td>\n",
       "    </tr>\n",
       "    <tr>\n",
       "      <th>6</th>\n",
       "      <td>6.548688e-01</td>\n",
       "      <td>1.432546e-17</td>\n",
       "      <td>8.152629e-02</td>\n",
       "      <td>6.270734e-01</td>\n",
       "      <td>5.549260e-01</td>\n",
       "      <td>4.627655e-01</td>\n",
       "      <td>1.000000e+00</td>\n",
       "    </tr>\n",
       "  </tbody>\n",
       "</table>\n",
       "</div>"
      ],
      "text/plain": [
       "              0             1             2             3             4  \\\n",
       "0  1.000000e+00 -1.074409e-17  1.262250e-01  7.319379e-01  6.562071e-01   \n",
       "1 -1.074409e-17  1.000000e+00  4.297638e-17 -3.223228e-17 -1.325105e-16   \n",
       "2  1.262250e-01  4.297638e-17  1.000000e+00 -2.597006e-01 -3.058083e-01   \n",
       "3  7.319379e-01 -3.223228e-17 -2.597006e-01  1.000000e+00  9.528096e-01   \n",
       "4  6.562071e-01 -1.325105e-16 -3.058083e-01  9.528096e-01  1.000000e+00   \n",
       "5  7.668011e-01  6.267388e-18  1.188437e-01  5.075842e-01  5.063225e-01   \n",
       "6  6.548688e-01  1.432546e-17  8.152629e-02  6.270734e-01  5.549260e-01   \n",
       "\n",
       "              5             6  \n",
       "0  7.668011e-01  6.548688e-01  \n",
       "1  6.267388e-18  1.432546e-17  \n",
       "2  1.188437e-01  8.152629e-02  \n",
       "3  5.075842e-01  6.270734e-01  \n",
       "4  5.063225e-01  5.549260e-01  \n",
       "5  1.000000e+00  4.627655e-01  \n",
       "6  4.627655e-01  1.000000e+00  "
      ]
     },
     "execution_count": 68,
     "metadata": {},
     "output_type": "execute_result"
    }
   ],
   "source": [
    "pd.DataFrame(x_scaled).corr()"
   ]
  },
  {
   "cell_type": "code",
   "execution_count": 58,
   "metadata": {},
   "outputs": [
    {
     "data": {
      "image/png": "[encoded data removed]",
      "text/plain": [
       "<Figure size 288x288 with 1 Axes>"
      ]
     },
     "metadata": {
      "needs_background": "light"
     },
     "output_type": "display_data"
    }
   ],
   "source": [
    "import matplotlib.pyplot as plt\n",
    "plt.matshow(pd.DataFrame(x_scaled).corr())\n",
    "plt.show()"
   ]
  },
  {
   "cell_type": "code",
   "execution_count": 69,
   "metadata": {},
   "outputs": [],
   "source": [
    "from sklearn.linear_model import LinearRegression\n",
    "import sklearn.metrics as metrics\n",
    "import math"
   ]
  },
  {
   "cell_type": "code",
   "execution_count": 70,
   "metadata": {},
   "outputs": [],
   "source": [
    "model_lin = LinearRegression()\n",
    "model_lin.fit(x_train, y_train)\n",
    "y_pred_linear= model_lin.predict(x_test)"
   ]
  },
  {
   "cell_type": "code",
   "execution_count": 71,
   "metadata": {},
   "outputs": [
    {
     "name": "stdout",
     "output_type": "stream",
     "text": [
      "MAE :  23901.41554018083\n",
      "MSE :  752838533.2973082\n",
      "RMSE :  27437.903223411737\n",
      "R2 :  0.4315909533288216\n"
     ]
    }
   ],
   "source": [
    "mae = metrics.mean_absolute_error(y_test, y_pred_linear)\n",
    "mse = metrics.mean_squared_error(y_test, y_pred_linear)\n",
    "rmse = math.sqrt(mse) \n",
    "r2 = metrics.r2_score(y_test, y_pred_linear)\n",
    "print(\"MAE : \",mae)\n",
    "print(\"MSE : \",mse)\n",
    "print(\"RMSE : \",rmse)\n",
    "print(\"R2 : \",r2)"
   ]
  },
  {
   "cell_type": "code",
   "execution_count": null,
   "metadata": {},
   "outputs": [],
   "source": []
  }
 ],
 "metadata": {
  "kernelspec": {
   "display_name": "Python 3.9.12 ('base')",
   "language": "python",
   "name": "python3"
  },
  "language_info": {
   "codemirror_mode": {
    "name": "ipython",
    "version": 3
   },
   "file_extension": ".py",
   "mimetype": "text/x-python",
   "name": "python",
   "nbconvert_exporter": "python",
   "pygments_lexer": "ipython3",
   "version": "3.9.12"
  },
  "orig_nbformat": 4,
  "vscode": {
   "interpreter": {
    "hash": "85cd0a157dede754d33199b6937e987ae65a4bc2ddea76c737d70bce3767773f"
   }
  }
 },
 "nbformat": 4,
 "nbformat_minor": 2
}
